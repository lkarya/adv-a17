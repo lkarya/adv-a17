{
 "cells": [
  {
   "cell_type": "code",
   "execution_count": null,
   "id": "6dfe35fe",
   "metadata": {},
   "outputs": [],
   "source": [
    "# Explain the difference between greedy and non-greedy syntax with visual terms in as few words\n",
    "as possible. What is the bare minimum effort required to transform a greedy pattern into a non-greedy\n",
    "one? What characters or characters can you introduce or change?\n",
    "\n",
    "Regular Expressions(Regex/RE) is a sequence of characters that are used for pattern matching. Or we can say that it is a way of describing a set of strings without having to list all strings in your program. We can apply a regular expression by using the pattern binding operators =~ and !~. Regex operator =~ is for testing a regular expression match."
   ]
  },
  {
   "cell_type": "code",
   "execution_count": null,
   "id": "bb567da2",
   "metadata": {},
   "outputs": [],
   "source": [
    "# When exactly does greedy versus non-greedy make a difference?  \n",
    "What if you are looking for a non-greedy match but the only one available is greedy?\n",
    "\n",
    "Quantifiers are very simple from the first sight, but in fact they can be tricky.\n",
    "\n",
    "We should understand how the search works very well if we plan to look for something more complex than /\\d+/.\n",
    "\n",
    "\n",
    "To find a match, the regular expression engine uses the following algorithm:\n",
    "\n",
    "For every position in the string\n",
    "Try to match the pattern at that position.\n",
    "If there’s no match, go to the next position"
   ]
  },
  {
   "cell_type": "code",
   "execution_count": null,
   "id": "d05f1c0d",
   "metadata": {},
   "outputs": [],
   "source": [
    "# Describe a scenario in which using a nontagged category would have a significant impact on the program outcomes.\n",
    "\n",
    "Intellectual skills. With this type of learning outcome, the learner will understand concepts, rules or procedures. ...\n",
    "Cognitive strategy. In this type of learning outcome, the learner uses personal strategies to think, organize, learn and behave.\n",
    "Verbal information. ...\n",
    "Motor skills. ...\n",
    "Attitude.\n"
   ]
  },
  {
   "cell_type": "code",
   "execution_count": null,
   "id": "6b4280c9",
   "metadata": {},
   "outputs": [],
   "source": [
    "# In standard expressions, what is the difference between positive look-ahead and negative look-ahead?\n",
    "\n",
    "The syntax is: X(?=Y), it means \"look for X, but match only if followed by Y\". There may be any pattern instead of X and Y.\n",
    "\n",
    "For an integer number followed by €, the regexp will be \\d+(?=€):"
   ]
  },
  {
   "cell_type": "code",
   "execution_count": null,
   "id": "fa7b57fa",
   "metadata": {},
   "outputs": [],
   "source": [
    "# Does a scanner object have to be named scanner?\n",
    "\n",
    "A scanner object in java is used to scan something from input stream or input buffer of your machine. Normally we use a scanner object for taking input from user.\n",
    "\n",
    "For example consider the following code-\n",
    "\n",
    " Scanner sc = new Scanner(); \n",
    " int a = sc.nextInt(); "
   ]
  }
 ],
 "metadata": {
  "kernelspec": {
   "display_name": "Python 3 (ipykernel)",
   "language": "python",
   "name": "python3"
  },
  "language_info": {
   "codemirror_mode": {
    "name": "ipython",
    "version": 3
   },
   "file_extension": ".py",
   "mimetype": "text/x-python",
   "name": "python",
   "nbconvert_exporter": "python",
   "pygments_lexer": "ipython3",
   "version": "3.9.7"
  }
 },
 "nbformat": 4,
 "nbformat_minor": 5
}
